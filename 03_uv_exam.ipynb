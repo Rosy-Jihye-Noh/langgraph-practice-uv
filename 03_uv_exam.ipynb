{
 "cells": [
  {
   "cell_type": "code",
   "execution_count": 1,
   "id": "98d5d457",
   "metadata": {},
   "outputs": [
    {
     "data": {
      "text/plain": [
       "True"
      ]
     },
     "execution_count": 1,
     "metadata": {},
     "output_type": "execute_result"
    }
   ],
   "source": [
    "from dotenv import load_dotenv\n",
    "load_dotenv()"
   ]
  },
  {
   "cell_type": "code",
   "execution_count": 2,
   "id": "1e0ac1a6",
   "metadata": {},
   "outputs": [],
   "source": [
    "from typing_extensions import List, TypedDict\n",
    "from langgraph.graph import StateGraph\n",
    "\n",
    "class AgentState(TypedDict):\n",
    "    query: str #질문\n",
    "    context: list\n",
    "    answer: str\n",
    "\n",
    "graph_builder = StateGraph(AgentState)"
   ]
  },
  {
   "cell_type": "code",
   "execution_count": 3,
   "id": "d38ae717",
   "metadata": {},
   "outputs": [],
   "source": [
    "from langchain_community.tools import TavilySearchResults\n",
    "\n",
    "tavily_search_tool = TavilySearchResults(\n",
    "    max_results = 3, \n",
    "    search_engine=\"advanced\",\n",
    "    include_ansers = True,\n",
    "    include_raw_content = True,\n",
    "    include_imagaes = True\n",
    ")"
   ]
  },
  {
   "cell_type": "code",
   "execution_count": 4,
   "id": "60880a90",
   "metadata": {},
   "outputs": [],
   "source": [
    "#웹 검색\n",
    "def web_search(state: AgentState) -> AgentState:\n",
    "    \"\"\"\n",
    "    주어진 state를 기반으로 웹 검색을 수행합니다.\n",
    "    \n",
    "    Args:\n",
    "        state (AgentState): 사용자의 질문을 포함한 에이전트의 현재 state\n",
    "\n",
    "    Returns:\n",
    "        AgentState: 웹 검색 결과가 추가된 state를 반환합니다.    \n",
    "    \"\"\"\n",
    "\n",
    "    query = state[\"query\"]\n",
    "    results = tavily_search_tool.invoke(query)\n",
    "\n",
    "    return {'context': results}"
   ]
  },
  {
   "cell_type": "code",
   "execution_count": 5,
   "id": "e4c18048",
   "metadata": {},
   "outputs": [
    {
     "name": "stderr",
     "output_type": "stream",
     "text": [
      "d:\\edu_data\\AI_prompt\\workspace\\ai_agent_work2\\langgraph_uv\\.venv\\Lib\\site-packages\\langsmith\\client.py:256: LangSmithMissingAPIKeyWarning: API key must be provided when using hosted LangSmith API\n",
      "  warnings.warn(\n"
     ]
    }
   ],
   "source": [
    "from langchain import hub\n",
    "from langchain_openai import ChatOpenAI\n",
    "from langchain_core.output_parsers import StrOutputParser\n",
    "\n",
    "generate_prompt = hub.pull('rlm/rag-prompt')\n",
    "generate_llm = ChatOpenAI(model = 'gpt-4o')\n",
    "\n",
    "def web_generate(state: AgentState) -> AgentState:\n",
    "    \"\"\"\n",
    "    주어진 문맥과 질문을 기반으로 답변을 생성합니다.\n",
    "\n",
    "    Args:\n",
    "        state (AgentState): 문맥과 질문을 포함한 에이전트의 현재 state\n",
    "\n",
    "    Returns:\n",
    "        AgentState: 생성된 답변을 포함한 state를 반환합니다.   \n",
    "    \"\"\"\n",
    "\n",
    "    context = state['context']\n",
    "    query = state['query']\n",
    "\n",
    "    rag_chain = generate_prompt | generate_llm | StrOutputParser()\n",
    "    response = rag_chain.invoke({'context': context, 'question': query})\n",
    "\n",
    "    return{'answer': response}"
   ]
  },
  {
   "cell_type": "code",
   "execution_count": 6,
   "id": "0847c256",
   "metadata": {},
   "outputs": [],
   "source": [
    "from langchain_openai import ChatOpenAI\n",
    "from langchain_core.output_parsers import StrOutputParser\n",
    "\n",
    "#llm 생성\n",
    "\n",
    "basic_llm = ChatOpenAI(model = 'gpt-4o-mini')\n",
    "\n",
    "def basic_generate(state: AgentState) -> AgentState:\n",
    "    \"\"\"\n",
    "    사용자의 질문에 기반하여 기본 답변을 생성합니다.\n",
    "\n",
    "    Args:\n",
    "        state (AgentState): 문맥과 질문을 포함한 에이전트의 현재 state\n",
    "\n",
    "    Returns:\n",
    "        AgentState: 생성된 답변을 포함한 state를 반환합니다.   \n",
    "    \"\"\"\n",
    "    query = state['query']\n",
    "\n",
    "    llm_response = basic_llm.invoke(query)\n",
    "\n",
    "    return{'answer': llm_response}"
   ]
  },
  {
   "cell_type": "code",
   "execution_count": 7,
   "id": "9d872b2c",
   "metadata": {},
   "outputs": [],
   "source": [
    "from langchain_core.prompts import ChatPromptTemplate\n",
    "from pydantic import BaseModel, Field\n",
    "from typing import Literal\n",
    "#라우팅한 결과값을 하나의 객체화\n",
    "#agent와 상관없음\n",
    "#라우터는 노드가 아님\n",
    "\n",
    "class Route(BaseModel):\n",
    "    target: Literal['vector_store', 'llm', 'web_search'] = Field( #Route 객체 안에 target 속성. 그리고 그 안에 3개의 속성 리턴하도록 만듦\n",
    "        description=\"The target for the query to answer\"\n",
    "    )\n",
    "\n",
    "router_system_prompt = \"\"\"\n",
    "You are an expert at routing a user's question to 'vector_store', 'llm', or 'web_search'.\n",
    "'vector_store' contains information about income tax up to December 2024.\n",
    "if you think the question is simple enough use 'llm'\n",
    "if you think you need to search the web to answer the question use 'web_search'\n",
    "\"\"\"\n",
    "\n",
    "\n",
    "router_prompt = ChatPromptTemplate.from_messages([\n",
    "    (\"system\", router_system_prompt),\n",
    "    (\"human\", \"{query}\")\n",
    "])\n",
    "\n",
    "router_llm = ChatOpenAI(model='gpt-4o-mini')\n",
    "structed_router_llm = router_llm.with_structured_output(Route) #Route 객체로 리턴하기로 약속\n",
    "\n",
    "def router(state: AgentState) -> Literal['vector_store', 'llm', 'web_search']:\n",
    "    \"\"\"\n",
    "    사용자의 질문을 기반으로 적절한 경로를 결정합니다.\n",
    "\n",
    "    Args:\n",
    "        state (AgentState): 사용자의 질문을 포함한 에이전트의 현재 state.\n",
    "\n",
    "    Returns:\n",
    "        Literal['vector_store', 'llm', 'web_search']:\n",
    "        질문을 처리하기 위한 적절한 경로를 나타내는 문자열을 반환한다.\n",
    "    \"\"\"\n",
    "    query = state['query']\n",
    "\n",
    "    router_chain = router_prompt | structed_router_llm\n",
    "\n",
    "    route = router_chain.invoke({\"query\": query})\n",
    "    #라우터에 질의하면 'vector_store', 'llm', 'web_search' 이 셋 중 하나 리턴\n",
    "\n",
    "    return route.target\n"
   ]
  },
  {
   "cell_type": "code",
   "execution_count": 8,
   "id": "906d2c33",
   "metadata": {},
   "outputs": [
    {
     "name": "stderr",
     "output_type": "stream",
     "text": [
      "d:\\edu_data\\AI_prompt\\workspace\\ai_agent_work2\\langgraph_uv\\.venv\\Lib\\site-packages\\langsmith\\client.py:256: LangSmithMissingAPIKeyWarning: API key must be provided when using hosted LangSmith API\n",
      "  warnings.warn(\n",
      "d:\\edu_data\\AI_prompt\\workspace\\ai_agent_work2\\langgraph_uv\\.venv\\Lib\\site-packages\\langsmith\\client.py:256: LangSmithMissingAPIKeyWarning: API key must be provided when using hosted LangSmith API\n",
      "  warnings.warn(\n",
      "d:\\edu_data\\AI_prompt\\workspace\\ai_agent_work2\\langgraph_uv\\.venv\\Lib\\site-packages\\langsmith\\client.py:256: LangSmithMissingAPIKeyWarning: API key must be provided when using hosted LangSmith API\n",
      "  warnings.warn(\n"
     ]
    },
    {
     "data": {
      "text/plain": [
       "<langgraph.graph.state.StateGraph at 0x1e6120e1350>"
      ]
     },
     "execution_count": 8,
     "metadata": {},
     "output_type": "execute_result"
    }
   ],
   "source": [
    "from income_tax_graph import graph as income_tax_subgraph\n",
    "\n",
    "graph_builder.add_node('income_tax_agent', income_tax_subgraph)\n",
    "graph_builder.add_node('web_search', web_search)\n",
    "graph_builder.add_node('web_generate', web_generate)\n",
    "graph_builder.add_node('basic_generate', basic_generate)"
   ]
  },
  {
   "cell_type": "code",
   "execution_count": 9,
   "id": "26a1e728",
   "metadata": {},
   "outputs": [
    {
     "data": {
      "text/plain": [
       "<langgraph.graph.state.StateGraph at 0x1e6120e1350>"
      ]
     },
     "execution_count": 9,
     "metadata": {},
     "output_type": "execute_result"
    }
   ],
   "source": [
    "from langgraph.graph import START, END\n",
    "\n",
    "graph_builder.add_conditional_edges(\n",
    "    START,\n",
    "    router, #라우터를 만나면 각각의 노드의 이름이 호출\n",
    "    {\n",
    "        'vector_store': 'income_tax_agent',\n",
    "        'llm': 'basic_generate',\n",
    "        'web_search': 'web_search'\n",
    "    }\n",
    ")\n",
    "\n",
    "graph_builder.add_edge('web_search', 'web_generate')\n",
    "graph_builder.add_edge('web_search', END)\n",
    "graph_builder.add_edge('web_generate', END)\n",
    "graph_builder.add_edge('basic_generate', END)"
   ]
  },
  {
   "cell_type": "code",
   "execution_count": 10,
   "id": "22e6adb7",
   "metadata": {},
   "outputs": [],
   "source": [
    "graph = graph_builder.compile()"
   ]
  },
  {
   "cell_type": "code",
   "execution_count": 11,
   "id": "2857365a",
   "metadata": {},
   "outputs": [
    {
     "data": {
      "image/png": "[encoded data removed]",
      "text/plain": [
       "<IPython.core.display.Image object>"
      ]
     },
     "metadata": {},
     "output_type": "display_data"
    }
   ],
   "source": [
    "from IPython.display import Image, display\n",
    "\n",
    "display(Image(graph.get_graph().draw_mermaid_png()))"
   ]
  },
  {
   "cell_type": "code",
   "execution_count": 12,
   "id": "fbe75080",
   "metadata": {},
   "outputs": [
    {
     "data": {
      "text/plain": [
       "{'query': '대한민국 수도는 어디인가요?',\n",
       " 'answer': AIMessage(content='대한민국의 수도는 서울입니다.', additional_kwargs={'refusal': None}, response_metadata={'token_usage': {'completion_tokens': 8, 'prompt_tokens': 15, 'total_tokens': 23, 'completion_tokens_details': {'accepted_prediction_tokens': 0, 'audio_tokens': 0, 'reasoning_tokens': 0, 'rejected_prediction_tokens': 0}, 'prompt_tokens_details': {'audio_tokens': 0, 'cached_tokens': 0}}, 'model_name': 'gpt-4o-mini-2024-07-18', 'system_fingerprint': 'fp_34a54ae93c', 'finish_reason': 'stop', 'logprobs': None}, id='run--bd45f0d8-3934-47c2-b115-e7d568711ab8-0', usage_metadata={'input_tokens': 15, 'output_tokens': 8, 'total_tokens': 23, 'input_token_details': {'audio': 0, 'cache_read': 0}, 'output_token_details': {'audio': 0, 'reasoning': 0}})}"
      ]
     },
     "execution_count": 12,
     "metadata": {},
     "output_type": "execute_result"
    }
   ],
   "source": [
    "initial_state = {'query': '대한민국 수도는 어디인가요?'}\n",
    "graph.invoke(initial_state)"
   ]
  },
  {
   "cell_type": "code",
   "execution_count": 13,
   "id": "6d99b001",
   "metadata": {},
   "outputs": [
    {
     "data": {
      "text/plain": [
       "{'query': '경찰병원역 맛집을 추천해 주세요?',\n",
       " 'context': [{'url': 'https://www.diningcode.com/list.dc?query=%EA%B2%BD%EC%B0%B0%EB%B3%91%EC%9B%90%EC%97%AD',\n",
       "   'content': '경찰병원역맛집 (269곳) · 1. 함경도 찹쌀순대 가락시장 · 2. 오향가 가락동 · 3. 우불식당 가락시장 · 4. 냠냠물고기 가락동 · 5. 진성한우곱창 가락동 · 6. 삼청각'},\n",
       "  {'url': 'https://hotel-iu.tistory.com/4984',\n",
       "   'content': \"Published Time: 2024-09-02T07:41:43+09:00\\n\\n경찰병원역 맛집 베스트 추천 top 10\\n\\n===============\\n\\n코니코니 해피라이프\\n========================================================\\n\\n   홈\\n\\n추천 TOP 10\\n\\n경찰병원역 맛집 베스트 추천 top 10\\n----------------------\\n\\n코니코니 2024. 9. 2. 07:41\\n\\n반응형\\n\\n#### 경찰병원역 맛집 베스트 추천 top 10\\n\\n  \\n\\n경찰병원역 맛집 베스트 추천 top 10곳을 소개합니다.\\n\\n  \\n\\n1: 취영루 송파점\\nImage 1\\n상호명: 취영루 송파점\\n\\n주소: 서울특별시 송파구 가락동 120-1 1, 2층 취영루\\n\\n전화번호: 미입력\\n\\n관련 키워드: ['송파상견례', '송파돌잔치', '송파룸식당', '송파회식', '송파룸대관']\\n\\n관련 태그: ['데이트하기 좋은', '모임하기 좋은', '단체회식'] [...] 영업시간: 매일 10:00~22:30 | 일요일 휴무\\n소개글: 안녕하세요 행복을 전하는 중국가정식 전문 밥향기입니다. 사장님이 직접 요리하시고 마라소스도 직접 만들어서 사용하기에 건강가정식입니다\\n\\n밥향기 바로가기▲\\n\\n  \\n\\n7: 진대감 가락점\\nImage 8Image 9\\n상호명: 진대감 가락점\\n\\n주소: 서울특별시 송파구 가락동 83-7\\n\\n전화번호: 미입력\\n\\n관련 키워드: ['차돌박이', '차돌삼합', '소고기', '냉면', '막걸리']\\n\\n관련 태그: ['데이트하기 좋은', '모임하기 좋은', '단체회식']\\n\\n영업시간: 평일 12:00~22:00 브레이크 타임 없음 | 일요일 11:00~22:00 브레이크 타임 없음 | 공휴일 11:00~22:00 브레이크 타임 없음\\n소개글: 한우 차돌박이, 서해안 생물 키조개 관자,\\n\\n단양 소백산 곤드레, 여수 돌산갓김치, 고들빼기, 명이나물 등\\n\\n산지 직송 전국 각지의 최고의 재료들로 담근 찬들의 이색적인 조화!\\n\\n맛있는 한 끼를 선사해드립니다. [...] 정통 중국요리를 고집하기 보다는 우리의 입맛에 맞는 중국요리를 선보이는 차이니즈 레스토랑으로 상견례, 돌모임, 생신모임, 세미나 장소로 추천드립니다.\\n\\n취영루 송파점 바로가기▲\\n\\n  \\n\\n2: 팔각도 송파가락점\\nImage 2\\n상호명: 팔각도 송파가락점\\n\\n주소: 서울특별시 송파구 가락동 76-2 종원빌딩 1층 101호\\n\\n전화번호: 미입력\\n\\n관련 키워드: ['고기집', '회식', '가락시장', '가락동', '닭갈비']\\n\\n관련 태그: ['데이트하기 좋은', '모임하기 좋은', '단체회식']\\n\\n영업시간: 미입력\\n소개글: 닭 특수부위 숯불구이 전문점입니다.\\n\\n숯불로 초벌구이를 해서 나오기 때문에 부드러운 육질과 풍부한 육즙이 일품입니다.\\n\\n또한 그동안 몰랐던 닭 특수부위를 맛볼 수 있으며 맛깔스러운 반찬과 소스도 즐길 수 있는 맛집입니다.\\n\\n팔각정을 모티브로 재해석한 팔각도 송파가락점은 외관이나 내부 장식이 특이한 멋집으로 데이트 및 단체회식하기 좋은 즐거운 공간입니다.\"},\n",
       "  {'url': 'https://www.diningcode.com/list.dc?query=%EA%B2%BD%EC%B0%B0%EB%B3%91%EC%9B%90%EC%97%AD%20%EC%A0%90%EC%8B%AC',\n",
       "   'content': '경찰병원역 점심맛집 (85곳) · 1. 함경도 찹쌀순대 가락시장 · 2. 오향가 가락동 · 3. 아끼야 본점 · 4. 가락정초밥 가락시장역점 · 5. 가락골마산아구찜 가락동 · 6. 밀각'}],\n",
       " 'answer': \"경찰병원역 주변 맛집으로는 '함경도 찹쌀순대 가락시장', '오향가 가락동', '진성한우곱창 가락동' 등이 있습니다. 또한, '취영루 송파점'과 '팔각도 송파가락점'도 추천할 만한 장소입니다.\"}"
      ]
     },
     "execution_count": 13,
     "metadata": {},
     "output_type": "execute_result"
    }
   ],
   "source": [
    "initial_state = {'query': '경찰병원역 맛집을 추천해 주세요?'}\n",
    "graph.invoke(initial_state)"
   ]
  },
  {
   "cell_type": "code",
   "execution_count": 14,
   "id": "ec8009c3",
   "metadata": {},
   "outputs": [
    {
     "name": "stdout",
     "output_type": "stream",
     "text": [
      "관련성 : relevant\n",
      "거짓말:  not hallucinated\n",
      "유용성: helpful\n"
     ]
    },
    {
     "data": {
      "text/plain": [
       "{'query': '연봉 5천만원 거주자의 소득세는 얼마인가요?',\n",
       " 'context': [Document(metadata={'source': './tax.docx'}, page_content='제55조(세율) ①거주자의 종합소득에 대한 소득세는 해당 연도의 종합소득과세표준에 다음의 세율을 적용하여 계산한 금액(이하 “종합소득산출세액”이라 한다)을 그 세액으로 한다. <개정 2014. 1. 1., 2016. 12. 20., 2017. 12. 19., 2020. 12. 29., 2022. 12. 31.>\\n\\n| 종합소득 과세표준          | 세율                                         |\\n\\n|-------------------|--------------------------------------------|\\n\\n| 1,400만원 이하     | 과세표준의 6퍼센트                             |\\n\\n| 1,400만원 초과     5,000만원 이하     | 84만원 + (1,400만원을 초과하는 금액의 15퍼센트)  |\\n\\n| 5,000만원 초과   8,800만원 이하     | 624만원 + (5,000만원을 초과하는 금액의 24퍼센트) |\\n\\n| 8,800만원 초과 1억5천만원 이하    | 3,706만원 + (8,800만원을 초과하는 금액의 35퍼센트)|\\n\\n| 1억5천만원 초과 3억원 이하         | 3,706만원 + (1억5천만원을 초과하는 금액의 38퍼센트)|\\n\\n| 3억원 초과    5억원 이하         | 9,406만원 + (3억원을 초과하는 금액의 38퍼센트)   |\\n\\n| 5억원 초과      10억원 이하        | 1억 7,406만원 + (5억원을 초과하는 금액의 42퍼센트)|\\n\\n| 10억원 초과        | 3억 8,406만원 + (10억원을 초과하는 금액의 45퍼센트)|\\n\\n\\n\\n\\n\\n② 거주자의 퇴직소득에 대한 소득세는 다음 각 호의 순서에 따라 계산한 금액(이하 “퇴직소득 산출세액”이라 한다)으로 한다.<개정 2013. 1. 1., 2014. 12. 23.>\\n\\n1. 해당 과세기간의 퇴직소득과세표준에 제1항의 세율을 적용하여 계산한 금액\\n\\n2. 제1호의 금액을 12로 나눈 금액에 근속연수를 곱한 금액\\n\\n3. 삭제<2014. 12. 23.>\\n\\n[전문개정 2009. 12. 31.]\\n\\n\\n\\n제2관 세액공제 <개정 2009. 12. 31.>\\n\\n\\n\\n제56조(배당세액공제) ① 거주자의 종합소득금액에 제17조제3항 각 호 외의 부분 단서가 적용되는 배당소득금액이 합산되어 있는 경우에는 같은 항 각 호 외의 부분 단서에 따라 해당 과세기간의 총수입금액에 더한 금액에 해당하는 금액을 종합소득 산출세액에서 공제한다. <개정 2009. 12. 31.>\\n\\n② 제1항에 따른 공제를 “배당세액공제”라 한다.<개정 2009. 12. 31.>\\n\\n③ 삭제<2003. 12. 30.>\\n\\n④ 제1항을 적용할 때 배당세액공제의 대상이 되는 배당소득금액은 제14조제2항의 종합소득과세표준에 포함된 배당소득금액으로서 이자소득등의 종합과세기준금액을 초과하는 것으로 한다.<개정 2009. 12. 31.>\\n\\n⑤ 삭제<2006. 12. 30.>'),\n",
       "  Document(metadata={'source': './tax.docx'}, page_content='3. 「자본시장과 금융투자업에 관한 법률」 제251조제1항에 따른 집합투자업겸영보험회사의 특별계정\\n\\n③ 비거주자의 소득은 제119조에 따라 구분한다.\\n\\n[전문개정 2009. 12. 31.]\\n\\n\\n\\n제4조(소득의 구분) ① 거주자의 소득은 다음 각 호와 같이 구분한다. <개정 2013. 1. 1., 2020. 12. 29.>\\n\\n1. 종합소득\\n\\n\\u3000이 법에 따라 과세되는 모든 소득에서 제2호, 제2호의2 및 제3호에 따른 소득을 제외한 소득으로서 다음 각 목의 소득을 합산한 것\\n\\n가. 이자소득\\n\\n나. 배당소득\\n\\n다. 사업소득\\n\\n라. 근로소득\\n\\n마. 연금소득\\n\\n바. 기타소득\\n\\n2. 퇴직소득\\n\\n2의2. 금융투자소득\\n\\n3. 양도소득\\n\\n② 제1항에 따른 소득을 구분할 때 다음 각 호의 신탁을 제외한 신탁의 이익은 「신탁법」 제2조에 따라 수탁자에게 이전되거나 그 밖에 처분된 재산권에서 발생하는 소득의 내용별로 구분한다.<개정 2011. 7. 25., 2020. 12. 29., 2022. 12. 31.>\\n\\n1. 「법인세법」 제5조제2항에 따라 신탁재산에 귀속되는 소득에 대하여 그 신탁의 수탁자가 법인세를 납부하는 신탁\\n\\n2. 「자본시장과 금융투자업에 관한 법률」 제9조제18항제1호에 따른 투자신탁. 다만, 2024년 12월 31일까지는 이 법 제17조제1항제5호에 따른 집합투자기구로 한정한다.\\n\\n3. 「자본시장과 금융투자업에 관한 법률」 제251조제1항에 따른 집합투자업겸영보험회사의 특별계정\\n\\n③ 비거주자의 소득은 제119조에 따라 구분한다.\\n\\n[전문개정 2009. 12. 31.]\\n\\n[시행일: 2025. 1. 1.] 제4조제1항제1호, 제4조제1항제2호의2\\n\\n\\n\\n제5조(과세기간) ① 소득세의 과세기간은 1월 1일부터 12월 31일까지 1년으로 한다.\\n\\n② 거주자가 사망한 경우의 과세기간은 1월 1일부터 사망한 날까지로 한다.\\n\\n③ 거주자가 주소 또는 거소를 국외로 이전(이하 “출국”이라 한다)하여 비거주자가 되는 경우의 과세기간은 1월 1일부터 출국한 날까지로 한다.\\n\\n[전문개정 2009. 12. 31.]\\n\\n\\n\\n제6조(납세지) ① 거주자의 소득세 납세지는 그 주소지로 한다. 다만, 주소지가 없는 경우에는 그 거소지로 한다.\\n\\n② 비거주자의 소득세 납세지는 제120조에 따른 국내사업장(이하 “국내사업장”이라 한다)의 소재지로 한다. 다만, 국내사업장이 둘 이상 있는 경우에는 주된 국내사업장의 소재지로 하고, 국내사업장이 없는 경우에는 국내원천소득이 발생하는 장소로 한다.<개정 2013. 1. 1.>\\n\\n③ 납세지가 불분명한 경우에는 대통령령으로 정하는 바에 따라 납세지를 결정한다.\\n\\n[전문개정 2009. 12. 31.]\\n\\n\\n\\n제7조(원천징수 등의 경우의 납세지) ① 원천징수하는 소득세의 납세지는 다음 각 호에 따른다. <개정 2012. 1. 1., 2023. 12. 31.>'),\n",
       "  Document(metadata={'source': './tax.docx'}, page_content='③ 제1항 및 제2항에 따른 이자등 상당액의 계산방법과 그 밖에 필요한 사항은 대통령령으로 정한다.\\n\\n[전문개정 2009. 12. 31.]\\n\\n\\n\\n제46조(채권 등에 대한 소득금액의 계산 특례) ① 거주자가 제16조제1항제1호ㆍ제2호ㆍ제2호의2ㆍ제5호 및 제6호에 해당하는 채권 또는 증권과 타인에게 양도가 가능한 증권으로서 대통령령으로 정하는 것(이하 이 조, 제133조의2 및 제156조의3에서 “채권등”이라 한다)의 발행법인으로부터 해당 채권등에서 발생하는 이자 또는 할인액(이하 이 조, 제133조의2 및 제156조의3에서 “이자등”이라 한다)을 지급[전환사채의 주식전환, 교환사채의 주식교환 및 신주인수권부사채의 신주인수권행사(신주 발행대금을 해당 신주인수권부사채로 납입하는 경우만 해당한다) 및 「자본시장과 금융투자업에 관한 법률」 제4조제7항제3호ㆍ제3호의2 및 제3호의3에 해당하는 채권등이 주식으로 전환ㆍ상환되는 경우를 포함한다. 이하 같다]받거나 해당 채권등을 매도(증여ㆍ변제 및 출자 등으로 채권등의 소유권 또는 이자소득의 수급권의 변동이 있는 경우와 매도를 위탁하거나 중개 또는 알선시키는 경우를 포함하되, 환매조건부채권매매거래 등 대통령령으로 정하는 경우는 제외한다. 이하 제133조의2에서 같다)하는 경우에는 거주자에게 그 보유기간별로 귀속되는 이자등 상당액을 해당 거주자의 제16조에 따른 이자소득으로 보아 소득금액을 계산한다. <개정 2010. 12. 27., 2012. 1. 1., 2020. 12. 29.>\\n\\n② 제1항을 적용할 때 해당 거주자가 해당 채권등을 보유한 기간을 대통령령으로 정하는 바에 따라 입증하지 못하는 경우에는 제133조의2제1항에 따른 원천징수기간의 이자등 상당액이 해당 거주자에게 귀속되는 것으로 보아 소득금액을 계산한다.<개정 2010. 12. 27.>\\n\\n③ 제1항 및 제2항에 따른 이자등 상당액의 계산방법과 그 밖에 필요한 사항은 대통령령으로 정한다.\\n\\n[전문개정 2009. 12. 31.]\\n\\n[시행일: 2025. 1. 1.]  제46조제1항\\n\\n\\n\\n제46조의2(중도 해지로 인한 이자소득금액 계산의 특례) 종합소득과세표준 확정신고 후 예금 또는 신탁계약의 중도 해지로 이미 지난 과세기간에 속하는 이자소득금액이 감액된 경우 그 중도 해지일이 속하는 과세기간의 종합소득금액에 포함된 이자소득금액에서 그 감액된 이자소득금액을 뺄 수 있다. 다만, 「국세기본법」 제45조의2에 따라 과세표준 및 세액의 경정(更正)을 청구한 경우에는 그러하지 아니하다.\\n\\n[전문개정 2009. 12. 31.]\\n\\n\\n\\n제5관 근로소득공제ㆍ연금소득공제 및 퇴직소득공제 <개정 2009. 12. 31.>\\n\\n\\n\\n제47조(근로소득공제) ①근로소득이 있는 거주자에 대해서는 해당 과세기간에 받는 총급여액에서 다음의 금액을 공제한다. 다만, 공제액이 2천만원을 초과하는 경우에는 2천만원을 공제한다. <개정 2012. 1. 1., 2014. 1. 1., 2019. 12. 31.>')],\n",
       " 'answer': AIMessage(content='연봉 5천만 원의 소득세는 624만 원입니다. 이는 과세표준 5천만 원 이하 구간에 해당하며, 1,400만 원을 초과하는 금액에 15%의 세율을 적용하여 계산한 결과입니다.', additional_kwargs={'refusal': None}, response_metadata={'token_usage': {'completion_tokens': 62, 'prompt_tokens': 3014, 'total_tokens': 3076, 'completion_tokens_details': {'accepted_prediction_tokens': 0, 'audio_tokens': 0, 'reasoning_tokens': 0, 'rejected_prediction_tokens': 0}, 'prompt_tokens_details': {'audio_tokens': 0, 'cached_tokens': 0}}, 'model_name': 'gpt-4o-2024-08-06', 'system_fingerprint': 'fp_07871e2ad8', 'finish_reason': 'stop', 'logprobs': None}, id='run--7871244b-cc8f-4458-bfe9-3270f21905ae-0', usage_metadata={'input_tokens': 3014, 'output_tokens': 62, 'total_tokens': 3076, 'input_token_details': {'audio': 0, 'cache_read': 0}, 'output_token_details': {'audio': 0, 'reasoning': 0}})}"
      ]
     },
     "execution_count": 14,
     "metadata": {},
     "output_type": "execute_result"
    }
   ],
   "source": [
    "initial_state = {'query': '연봉 5천만원 거주자의 소득세는 얼마인가요?'}\n",
    "graph.invoke(initial_state)"
   ]
  }
 ],
 "metadata": {
  "kernelspec": {
   "display_name": "langgraph-uv",
   "language": "python",
   "name": "python3"
  },
  "language_info": {
   "codemirror_mode": {
    "name": "ipython",
    "version": 3
   },
   "file_extension": ".py",
   "mimetype": "text/x-python",
   "name": "python",
   "nbconvert_exporter": "python",
   "pygments_lexer": "ipython3",
   "version": "3.11.9"
  }
 },
 "nbformat": 4,
 "nbformat_minor": 5
}
