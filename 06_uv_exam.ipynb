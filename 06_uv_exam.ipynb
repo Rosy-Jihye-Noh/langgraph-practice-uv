{
 "cells": [
  {
   "cell_type": "markdown",
   "id": "6f10483b",
   "metadata": {},
   "source": [
    "## 멀티턴 에이전트 그래프\n",
    "- LLM이 툴 호출이 필요하면 툴 노드로 분기\n",
    "- 툴 실행 후 다시 에이전트로 돌아와 추가 reasoning을 반복\n",
    "- 더 이상 툴 호출이 없으면 그래프가 종료되고, 최종 답변이 출력"
   ]
  },
  {
   "cell_type": "code",
   "execution_count": 1,
   "id": "d8f004b0",
   "metadata": {},
   "outputs": [
    {
     "data": {
      "text/plain": [
       "True"
      ]
     },
     "execution_count": 1,
     "metadata": {},
     "output_type": "execute_result"
    }
   ],
   "source": [
    "from dotenv import load_dotenv\n",
    "\n",
    "load_dotenv()"
   ]
  },
  {
   "cell_type": "code",
   "execution_count": 2,
   "id": "2f13b396",
   "metadata": {},
   "outputs": [],
   "source": [
    "from langchain_openai import ChatOpenAI\n",
    "\n",
    "llm = ChatOpenAI(model=\"gpt-4o\", streaming=True)\n",
    "small_llm = ChatOpenAI(model=\"gpt-4o-mini\", streaming=True)"
   ]
  },
  {
   "cell_type": "markdown",
   "id": "4d58afe0",
   "metadata": {},
   "source": [
    "### 툴(함수) 정의 및 등록"
   ]
  },
  {
   "cell_type": "code",
   "execution_count": null,
   "id": "d836de47",
   "metadata": {},
   "outputs": [],
   "source": [
    "from langchain_core.tools import tool\n",
    "\n",
    "# add(a, b): 두 수를 더하는 함수\n",
    "@tool\n",
    "def add(a: int, b: int) -> int:\n",
    "    \"\"\"숫자 a와 b를 더합니다.\"\"\"\n",
    "    return a+b\n",
    "\n",
    "# multiply(a, b): 두 수를 곱하는 함수\n",
    "@tool\n",
    "def multiply(a: int, b: int) -> int:\n",
    "    \"\"\"숫자 a와 b를 곱합니다.\"\"\"\n",
    "    return a*b"
   ]
  },
  {
   "cell_type": "code",
   "execution_count": null,
   "id": "b294c2d8",
   "metadata": {},
   "outputs": [],
   "source": [
    "from langgraph.prebuilt import ToolNode\n",
    "\n",
    "# 위 두 함수를 LangChain의 @tool 데코레이터로 툴로 등록\n",
    "tool_list = [add, multiply]\n",
    "#툴 리스트를 만들고, LLM에 툴을 바인딩(llm_with_tools)\n",
    "llm_with_tools = small_llm.bind_tools(tool_list)\n",
    "#ToolNode로 툴 실행 노드를 만듦\n",
    "tool_node = ToolNode(tool_list)"
   ]
  },
  {
   "cell_type": "markdown",
   "id": "da08b151",
   "metadata": {},
   "source": [
    "### 툴 및 LLM 테스트"
   ]
  },
  {
   "cell_type": "code",
   "execution_count": null,
   "id": "42a6bbc5",
   "metadata": {},
   "outputs": [
    {
     "data": {
      "text/plain": [
       "15"
      ]
     },
     "execution_count": 5,
     "metadata": {},
     "output_type": "execute_result"
    }
   ],
   "source": [
    "multiply.invoke({'a':3, 'b':5})"
   ]
  },
  {
   "cell_type": "code",
   "execution_count": null,
   "id": "82e453b1",
   "metadata": {},
   "outputs": [],
   "source": [
    "#LLM이 툴 호출 메시지를 생성하는지 테스트\n",
    "ai_message = llm_with_tools.invoke('What is 3 plus 5?')"
   ]
  },
  {
   "cell_type": "code",
   "execution_count": 7,
   "id": "20c2e071",
   "metadata": {},
   "outputs": [
    {
     "data": {
      "text/plain": [
       "AIMessage(content='', additional_kwargs={'tool_calls': [{'index': 0, 'id': 'call_w8eBXC6xsRx9H35kjU2R1BUp', 'function': {'arguments': '{\"a\":3,\"b\":5}', 'name': 'add'}, 'type': 'function'}]}, response_metadata={'finish_reason': 'tool_calls', 'model_name': 'gpt-4o-mini-2024-07-18', 'system_fingerprint': 'fp_62a23a81ef'}, id='run--ce597ba6-2747-4065-a1aa-4493dfeb0432-0', tool_calls=[{'name': 'add', 'args': {'a': 3, 'b': 5}, 'id': 'call_w8eBXC6xsRx9H35kjU2R1BUp', 'type': 'tool_call'}])"
      ]
     },
     "execution_count": 7,
     "metadata": {},
     "output_type": "execute_result"
    }
   ],
   "source": [
    "ai_message"
   ]
  },
  {
   "cell_type": "code",
   "execution_count": 8,
   "id": "c30c0c6a",
   "metadata": {},
   "outputs": [
    {
     "data": {
      "text/plain": [
       "{'messages': [ToolMessage(content='8', name='add', tool_call_id='call_w8eBXC6xsRx9H35kjU2R1BUp')]}"
      ]
     },
     "execution_count": 8,
     "metadata": {},
     "output_type": "execute_result"
    }
   ],
   "source": [
    "tool_node.invoke({'messages': [ai_message]}) #'What is 3 plus 5?' 질의에 대한 tool_calls에 대한 정보를 messages에 넣는 것"
   ]
  },
  {
   "cell_type": "markdown",
   "id": "d6ee71ee",
   "metadata": {},
   "source": [
    "### 그래프 상태 및 빌더 준비"
   ]
  },
  {
   "cell_type": "code",
   "execution_count": null,
   "id": "16dfcc44",
   "metadata": {},
   "outputs": [],
   "source": [
    "from langgraph.graph import MessagesState, StateGraph\n",
    "#MessagesState : system, human, ai, tool message를 저장\n",
    "#여러 메시지 유형(시스템, 사용자, AI, 툴 메시지 등)을 저장하고 관리하는 데 사용되는 상태 타입\n",
    "\n",
    "#StateGraph(MessagesState)로 그래프 빌더 생성\n",
    "graph_builder = StateGraph(MessagesState)"
   ]
  },
  {
   "cell_type": "markdown",
   "id": "946a2d4b",
   "metadata": {},
   "source": [
    "### 에이전트 노드 정의"
   ]
  },
  {
   "cell_type": "code",
   "execution_count": null,
   "id": "83fd129f",
   "metadata": {},
   "outputs": [],
   "source": [
    "#agent(state) 함수\n",
    "\n",
    "def agent(state: MessagesState) -> MessagesState:\n",
    "    \"\"\"\n",
    "    에이전트 함수는 주어진 상태에서 메세지를 가져와\n",
    "    LLM과 도구를 사용하여 응답 메세지를 생성합니다.\n",
    "\n",
    "    Args:\n",
    "        state (MessagesState) : 메세지 상태를 포함하는 state.\n",
    "\n",
    "    Returns:\n",
    "        MessageState: 응답 메세지를 포함하는 새로운 state.\n",
    "    \n",
    "    \"\"\"\n",
    "\n",
    "    messages = state['messages']\n",
    "    #현재 메시지 리스트를 LLM에 전달\n",
    "\n",
    "    response = llm_with_tools.invoke(messages)\n",
    "    #LLM이 응답 메시지(툴 호출 포함 가능)를 생성\n",
    "\n",
    "    return {\"messages\": [response]}\n",
    "    #새로운 메시지 상태로 반환"
   ]
  },
  {
   "cell_type": "markdown",
   "id": "b207c165",
   "metadata": {},
   "source": [
    "### 분기(조건) 노드 정의"
   ]
  },
  {
   "cell_type": "code",
   "execution_count": null,
   "id": "94fb11d6",
   "metadata": {},
   "outputs": [],
   "source": [
    "from typing import Literal\n",
    "from langgraph.graph import END\n",
    "\n",
    "#should_continue(state) 함수\n",
    "def should_continue(state: MessagesState) -> Literal['tools', END]:\n",
    "    \"\"\"\n",
    "    주어진 메세지 상태를 기반으로 agent가 계속 진행할지 여부를 결정한다.\n",
    "    \n",
    "    Args:\n",
    "        state (MessagesState) : 'state'를 포함하는 객체\n",
    "    \n",
    "    Returns:\n",
    "        Literal['tools', END]: 도구를 사용해야하면 'tools'를 리턴하고,\n",
    "        답변할 준비가 되었다면 END를 반환해서 프로세스를 종료합니다.\n",
    "\n",
    "    \"\"\"\n",
    "\n",
    "    messages = state['messages']\n",
    "    last_ai_message = messages[-1]\n",
    "\n",
    "    if last_ai_message.tool_calls:\n",
    "        return 'tools'\n",
    "        #마지막 AI 메시지에 tool_calls가 있으면 'tools'로 분기\n",
    "\n",
    "    return END\n",
    "    #없으면 END로 분기(그래프 종료)\n"
   ]
  },
  {
   "cell_type": "markdown",
   "id": "fa0a6295",
   "metadata": {},
   "source": [
    "### 그래프 노드 및 에지 연결"
   ]
  },
  {
   "cell_type": "code",
   "execution_count": null,
   "id": "c84c2d25",
   "metadata": {},
   "outputs": [
    {
     "data": {
      "text/plain": [
       "<langgraph.graph.state.StateGraph at 0x2646f0637d0>"
      ]
     },
     "execution_count": 12,
     "metadata": {},
     "output_type": "execute_result"
    }
   ],
   "source": [
    "graph_builder.add_node('agent', agent)\n",
    "graph_builder.add_node('tools', tool_node)"
   ]
  },
  {
   "cell_type": "code",
   "execution_count": 13,
   "id": "72390b7b",
   "metadata": {},
   "outputs": [
    {
     "data": {
      "text/plain": [
       "<langgraph.graph.state.StateGraph at 0x2646f0637d0>"
      ]
     },
     "execution_count": 13,
     "metadata": {},
     "output_type": "execute_result"
    }
   ],
   "source": [
    "from langgraph.graph import START, END\n",
    "\n",
    "graph_builder.add_edge(START, 'agent')\n",
    "graph_builder.add_conditional_edges(\n",
    "    'agent',\n",
    "    should_continue, #이것이 판단 #tool_calls가 있으면 tools로 가고 agent로 감\n",
    "    ['tools', END]\n",
    ")\n",
    "graph_builder.add_edge('tools', 'agent')\n",
    "\n"
   ]
  },
  {
   "cell_type": "code",
   "execution_count": 14,
   "id": "3f795ae3",
   "metadata": {},
   "outputs": [],
   "source": [
    "graph = graph_builder.compile()"
   ]
  },
  {
   "cell_type": "code",
   "execution_count": 15,
   "id": "1d796b9f",
   "metadata": {},
   "outputs": [
    {
     "data": {
      "image/png": "[encoded data removed]",
      "text/plain": [
       "<IPython.core.display.Image object>"
      ]
     },
     "metadata": {},
     "output_type": "display_data"
    }
   ],
   "source": [
    "from IPython.display import Image, display\n",
    "\n",
    "display(Image(graph.get_graph().draw_mermaid_png()))"
   ]
  },
  {
   "cell_type": "code",
   "execution_count": 16,
   "id": "9ffa367f",
   "metadata": {},
   "outputs": [
    {
     "name": "stdout",
     "output_type": "stream",
     "text": [
      "================================\u001b[1m Human Message \u001b[0m=================================\n",
      "\n",
      "3에 5를 더하고 8을 곱하면?\n",
      "==================================\u001b[1m Ai Message \u001b[0m==================================\n",
      "Tool Calls:\n",
      "  add (call_VKIFwtyRJHxAJgbAzhNeHNws)\n",
      " Call ID: call_VKIFwtyRJHxAJgbAzhNeHNws\n",
      "  Args:\n",
      "    a: 3\n",
      "    b: 5\n",
      "  multiply (call_jA6ZlCIQwrb1xBbc6vg53zb5)\n",
      " Call ID: call_jA6ZlCIQwrb1xBbc6vg53zb5\n",
      "  Args:\n",
      "    a: 8\n",
      "    b: 8\n",
      "=================================\u001b[1m Tool Message \u001b[0m=================================\n",
      "Name: multiply\n",
      "\n",
      "64\n",
      "==================================\u001b[1m Ai Message \u001b[0m==================================\n",
      "\n",
      "3에 5를 더하면 8이고, 8을 곱하면 64입니다.\n"
     ]
    }
   ],
   "source": [
    "from langchain_core.messages import HumanMessage\n",
    "\n",
    "for chunk in graph.stream({'messages': [HumanMessage('3에 5를 더하고 8을 곱하면?')]}, stream_mode='values'): # chunk에 담으려고 함\n",
    "    chunk['messages'][-1].pretty_print()"
   ]
  },
  {
   "cell_type": "code",
   "execution_count": null,
   "id": "fb4aede9",
   "metadata": {},
   "outputs": [],
   "source": []
  }
 ],
 "metadata": {
  "kernelspec": {
   "display_name": "langgraph-uv",
   "language": "python",
   "name": "python3"
  },
  "language_info": {
   "codemirror_mode": {
    "name": "ipython",
    "version": 3
   },
   "file_extension": ".py",
   "mimetype": "text/x-python",
   "name": "python",
   "nbconvert_exporter": "python",
   "pygments_lexer": "ipython3",
   "version": "3.11.9"
  }
 },
 "nbformat": 4,
 "nbformat_minor": 5
}
