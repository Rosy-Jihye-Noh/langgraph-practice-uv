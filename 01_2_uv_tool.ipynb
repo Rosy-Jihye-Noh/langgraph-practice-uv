{
 "cells": [
  {
   "cell_type": "code",
   "execution_count": 1,
   "id": "89fce589",
   "metadata": {},
   "outputs": [
    {
     "data": {
      "text/plain": [
       "True"
      ]
     },
     "execution_count": 1,
     "metadata": {},
     "output_type": "execute_result"
    }
   ],
   "source": [
    "from dotenv import load_dotenv\n",
    "load_dotenv()"
   ]
  },
  {
   "cell_type": "markdown",
   "id": "f2344ccf",
   "metadata": {},
   "source": [
    "### 벡터스토어 및 프롬프트 준비"
   ]
  },
  {
   "cell_type": "code",
   "execution_count": 2,
   "id": "62ab45c4",
   "metadata": {},
   "outputs": [],
   "source": [
    "from langchain_openai import ChatOpenAI\n",
    "\n",
    "llm = ChatOpenAI(model=\"gpt-4o\", streaming=True)\n",
    "small_llm = ChatOpenAI(model=\"gpt-4o-mini\", streaming=True)"
   ]
  },
  {
   "cell_type": "code",
   "execution_count": 3,
   "id": "a8a42cce",
   "metadata": {},
   "outputs": [],
   "source": [
    "from langchain_openai import OpenAIEmbeddings\n",
    "embedding = OpenAIEmbeddings(model=\"text-embedding-3-large\")\n",
    "\n",
    "from langchain_chroma import Chroma\n",
    "vector_store = Chroma(\n",
    "    collection_name=\"chroma_tax\",           # 저장할 때 사용한 collection_name과 동일하게\n",
    "    embedding_function=embedding,\n",
    "    persist_directory=\"./chroma_tax\"        # 저장된 디렉토리 경로\n",
    ")\n",
    "\n",
    "retriever = vector_store.as_retriever(search_kwargs={\"k\": 3})"
   ]
  },
  {
   "cell_type": "code",
   "execution_count": 4,
   "id": "94c9f2e5",
   "metadata": {},
   "outputs": [],
   "source": [
    "from typing_extensions import List, TypedDict\n",
    "from langchain_core.documents import Document\n",
    "from langgraph.graph import StateGraph, MessagesState\n",
    "\n",
    "class AgentState(MessagesState):\n",
    "    pass #messages는 있음\n",
    "\n",
    "graph_builder = StateGraph(AgentState)"
   ]
  },
  {
   "cell_type": "code",
   "execution_count": 5,
   "id": "00131638",
   "metadata": {},
   "outputs": [],
   "source": [
    "def format_docs(docs):\n",
    "    return \"\\n\\n\".join(doc.page_content for doc in docs)\n",
    "#하나의 문서로 통합"
   ]
  },
  {
   "cell_type": "markdown",
   "id": "258ac3b4",
   "metadata": {},
   "source": [
    "### 툴 함수로 래핑"
   ]
  },
  {
   "cell_type": "code",
   "execution_count": 6,
   "id": "fa03e68d",
   "metadata": {},
   "outputs": [],
   "source": [
    "from langchain_core.tools import tool\n",
    "\n",
    "@tool\n",
    "def retrieve_tool(query: str) -> str:\n",
    "    \"\"\"질문에 대해 관련 문서를 검색하여 반환하는 도구입니다.\"\"\"\n",
    "    docs = retriever.invoke(query)\n",
    "    \n",
    "    return format_docs(docs)\n",
    "    "
   ]
  },
  {
   "cell_type": "code",
   "execution_count": 7,
   "id": "2bc2188a",
   "metadata": {},
   "outputs": [],
   "source": [
    "from langchain.prompts import PromptTemplate\n",
    "from langchain_core.output_parsers import StrOutputParser \n",
    "\n",
    "@tool\n",
    "def generate_tool(context: str, question: str) -> str:\n",
    "    \"\"\"검색된 문서(context)와 질문을 바탕으로 응답을 생성하는 도구입니다.\"\"\"\n",
    "    prompt = PromptTemplate.from_template(\"\"\"\n",
    "    다음은 질문에 대한 문서입니다. 문서를 참고하여 질문에 대한 정확한 답변을 생성해 주세요. \n",
    "    \n",
    "    [문서]\n",
    "    {context}\n",
    "    \n",
    "    [질문]\n",
    "    {question}                                     \n",
    "    \"\"\")\n",
    "    chain = prompt | llm | StrOutputParser()\n",
    "    \n",
    "    return chain.invoke({'context': context, 'question': question})\n",
    "    "
   ]
  },
  {
   "cell_type": "code",
   "execution_count": 8,
   "id": "efcc2c7e",
   "metadata": {},
   "outputs": [],
   "source": [
    "from urllib import response\n",
    "from langchain_core.prompts import PromptTemplate\n",
    "from langchain_core.output_parsers import StrOutputParser\n",
    "\n",
    "dictionary = ['사람과 관련된 표현 -> 거주자']\n",
    "    \n",
    "rewrite_prompt = PromptTemplate.from_template(f\"\"\"\n",
    "사용자의 질문을 보고, 우리의 사전을 참고해서 사용자의 질문을 변경해 주세요.\n",
    "사전: {dictionary}                                              \n",
    "질문: {{query}}\n",
    "\"\"\")"
   ]
  },
  {
   "cell_type": "code",
   "execution_count": 9,
   "id": "a6f53e74",
   "metadata": {},
   "outputs": [],
   "source": [
    "@tool\n",
    "def rewrite_tool(query: str) -> str:\n",
    "    \"\"\"\n",
    "    사용자의 질문을 사전을 고려하여 변경합니다.     \n",
    "    \"\"\"\n",
    "   \n",
    "    rewrite_chain = rewrite_prompt | llm | StrOutputParser()    \n",
    "    \n",
    "    return rewrite_chain.invoke({'query': query})"
   ]
  },
  {
   "cell_type": "markdown",
   "id": "9a8262ab",
   "metadata": {},
   "source": [
    "### 툴 리스트, ToolNode 생성, LLM에 툴 바인딩"
   ]
  },
  {
   "cell_type": "code",
   "execution_count": 10,
   "id": "a67a699e",
   "metadata": {},
   "outputs": [],
   "source": [
    "from langgraph.prebuilt import ToolNode\n",
    "\n",
    "tool_list = [retrieve_tool, generate_tool, rewrite_tool]\n",
    "tool_node = ToolNode(tool_list)\n",
    "llm_with_tools =llm.bind_tools(tool_list)"
   ]
  },
  {
   "cell_type": "markdown",
   "id": "7f68f630",
   "metadata": {},
   "source": [
    "### agent 함수 정의"
   ]
  },
  {
   "cell_type": "code",
   "execution_count": 11,
   "id": "96c94510",
   "metadata": {},
   "outputs": [],
   "source": [
    "from langchain_core.messages import HumanMessage, SystemMessage\n",
    "\n",
    "def agent(state: AgentState) -> AgentState:\n",
    "    system_msg = SystemMessage(content=\"너는 사용자 질문을 검색, 리라이팅, 응답 생성 도구로 해결하는 AI입니다.\")\n",
    "    messages = [system_msg] + state[\"messages\"]\n",
    "    response = llm_with_tools.invoke(messages)\n",
    "    \n",
    "    return {\"messages\": [response]}\n",
    "    "
   ]
  },
  {
   "cell_type": "markdown",
   "id": "fac70e28",
   "metadata": {},
   "source": [
    "### 그래프 노드 및 에지 연결"
   ]
  },
  {
   "cell_type": "code",
   "execution_count": null,
   "id": "4623d862",
   "metadata": {},
   "outputs": [
    {
     "data": {
      "text/plain": [
       "<langgraph.graph.state.StateGraph at 0x2aded6e0e90>"
      ]
     },
     "execution_count": 12,
     "metadata": {},
     "output_type": "execute_result"
    }
   ],
   "source": [
    "graph_builder = StateGraph(MessagesState)\n",
    "graph_builder.add_node('agent', agent) #'agent' 노드: 에이전트 함수\n",
    "graph_builder.add_node('tools', tool_node) #'tools' 노드: 툴 실행 노드\n",
    "\n",
    "from langgraph.graph import START, END\n",
    "from langgraph.prebuilt import tools_condition\n",
    "\n",
    "graph_builder.add_edge(START, 'agent')\n",
    "graph_builder.add_conditional_edges('agent', tools_condition) #tool_condition : tool을 사용할지말지, 어느 tool로 갈지 판단\n",
    "graph_builder.add_edge('tools', 'agent')"
   ]
  },
  {
   "cell_type": "markdown",
   "id": "767c135b",
   "metadata": {},
   "source": [
    "### 그래프 컴파일 및 실행"
   ]
  },
  {
   "cell_type": "code",
   "execution_count": 13,
   "id": "04f858e5",
   "metadata": {},
   "outputs": [
    {
     "data": {
      "image/png": "[encoded data removed]",
      "text/plain": [
       "<langgraph.graph.state.CompiledStateGraph object at 0x000002ADED523E10>"
      ]
     },
     "execution_count": 13,
     "metadata": {},
     "output_type": "execute_result"
    }
   ],
   "source": [
    "graph = graph_builder.compile()\n",
    "\n",
    "graph"
   ]
  },
  {
   "cell_type": "code",
   "execution_count": 14,
   "id": "63d102b0",
   "metadata": {},
   "outputs": [
    {
     "name": "stdout",
     "output_type": "stream",
     "text": [
      "================================\u001b[1m Human Message \u001b[0m=================================\n",
      "\n",
      "연봉 5천만원 직장인의 소득세는 얼마인가요?\n",
      "==================================\u001b[1m Ai Message \u001b[0m==================================\n",
      "Tool Calls:\n",
      "  rewrite_tool (call_ePQeEeCfcYeemIazqjiw8nmj)\n",
      " Call ID: call_ePQeEeCfcYeemIazqjiw8nmj\n",
      "  Args:\n",
      "    query: 연봉 5천만원 직장인의 소득세는 얼마인가요?\n",
      "=================================\u001b[1m Tool Message \u001b[0m=================================\n",
      "Name: rewrite_tool\n",
      "\n",
      "거주자의 연봉 5천만원 소득세는 얼마인가요?\n",
      "==================================\u001b[1m Ai Message \u001b[0m==================================\n",
      "Tool Calls:\n",
      "  retrieve_tool (call_24oNGxSojwIqLfwxpP2Bhpvo)\n",
      " Call ID: call_24oNGxSojwIqLfwxpP2Bhpvo\n",
      "  Args:\n",
      "    query: 거주자의 연봉 5천만원 소득세는 얼마인가요?\n",
      "=================================\u001b[1m Tool Message \u001b[0m=================================\n",
      "Name: retrieve_tool\n",
      "\n",
      "③ 제1항 및 제2항에 따른 이자등 상당액의 계산방법과 그 밖에 필요한 사항은 대통령령으로 정한다.\n",
      "\n",
      "[전문개정 2009. 12. 31.]\n",
      "\n",
      "\n",
      "\n",
      "제46조(채권 등에 대한 소득금액의 계산 특례) ① 거주자가 제16조제1항제1호ㆍ제2호ㆍ제2호의2ㆍ제5호 및 제6호에 해당하는 채권 또는 증권과 타인에게 양도가 가능한 증권으로서 대통령령으로 정하는 것(이하 이 조, 제133조의2 및 제156조의3에서 “채권등”이라 한다)의 발행법인으로부터 해당 채권등에서 발생하는 이자 또는 할인액(이하 이 조, 제133조의2 및 제156조의3에서 “이자등”이라 한다)을 지급[전환사채의 주식전환, 교환사채의 주식교환 및 신주인수권부사채의 신주인수권행사(신주 발행대금을 해당 신주인수권부사채로 납입하는 경우만 해당한다) 및 「자본시장과 금융투자업에 관한 법률」 제4조제7항제3호ㆍ제3호의2 및 제3호의3에 해당하는 채권등이 주식으로 전환ㆍ상환되는 경우를 포함한다. 이하 같다]받거나 해당 채권등을 매도(증여ㆍ변제 및 출자 등으로 채권등의 소유권 또는 이자소득의 수급권의 변동이 있는 경우와 매도를 위탁하거나 중개 또는 알선시키는 경우를 포함하되, 환매조건부채권매매거래 등 대통령령으로 정하는 경우는 제외한다. 이하 제133조의2에서 같다)하는 경우에는 거주자에게 그 보유기간별로 귀속되는 이자등 상당액을 해당 거주자의 제16조에 따른 이자소득으로 보아 소득금액을 계산한다. <개정 2010. 12. 27., 2012. 1. 1., 2020. 12. 29.>\n",
      "\n",
      "② 제1항을 적용할 때 해당 거주자가 해당 채권등을 보유한 기간을 대통령령으로 정하는 바에 따라 입증하지 못하는 경우에는 제133조의2제1항에 따른 원천징수기간의 이자등 상당액이 해당 거주자에게 귀속되는 것으로 보아 소득금액을 계산한다.<개정 2010. 12. 27.>\n",
      "\n",
      "③ 제1항 및 제2항에 따른 이자등 상당액의 계산방법과 그 밖에 필요한 사항은 대통령령으로 정한다.\n",
      "\n",
      "[전문개정 2009. 12. 31.]\n",
      "\n",
      "[시행일: 2025. 1. 1.]  제46조제1항\n",
      "\n",
      "\n",
      "\n",
      "제46조의2(중도 해지로 인한 이자소득금액 계산의 특례) 종합소득과세표준 확정신고 후 예금 또는 신탁계약의 중도 해지로 이미 지난 과세기간에 속하는 이자소득금액이 감액된 경우 그 중도 해지일이 속하는 과세기간의 종합소득금액에 포함된 이자소득금액에서 그 감액된 이자소득금액을 뺄 수 있다. 다만, 「국세기본법」 제45조의2에 따라 과세표준 및 세액의 경정(更正)을 청구한 경우에는 그러하지 아니하다.\n",
      "\n",
      "[전문개정 2009. 12. 31.]\n",
      "\n",
      "\n",
      "\n",
      "제5관 근로소득공제ㆍ연금소득공제 및 퇴직소득공제 <개정 2009. 12. 31.>\n",
      "\n",
      "\n",
      "\n",
      "제47조(근로소득공제) ①근로소득이 있는 거주자에 대해서는 해당 과세기간에 받는 총급여액에서 다음의 금액을 공제한다. 다만, 공제액이 2천만원을 초과하는 경우에는 2천만원을 공제한다. <개정 2012. 1. 1., 2014. 1. 1., 2019. 12. 31.>\n",
      "\n",
      "제55조(세율) ①거주자의 종합소득에 대한 소득세는 해당 연도의 종합소득과세표준에 다음의 세율을 적용하여 계산한 금액(이하 “종합소득산출세액”이라 한다)을 그 세액으로 한다. <개정 2014. 1. 1., 2016. 12. 20., 2017. 12. 19., 2020. 12. 29., 2022. 12. 31.>\n",
      "\n",
      "| 종합소득 과세표준          | 세율                                         |\n",
      "\n",
      "|-------------------|--------------------------------------------|\n",
      "\n",
      "| 1,400만원 이하     | 과세표준의 6퍼센트                             |\n",
      "\n",
      "| 1,400만원 초과     5,000만원 이하     | 84만원 + (1,400만원을 초과하는 금액의 15퍼센트)  |\n",
      "\n",
      "| 5,000만원 초과   8,800만원 이하     | 624만원 + (5,000만원을 초과하는 금액의 24퍼센트) |\n",
      "\n",
      "| 8,800만원 초과 1억5천만원 이하    | 3,706만원 + (8,800만원을 초과하는 금액의 35퍼센트)|\n",
      "\n",
      "| 1억5천만원 초과 3억원 이하         | 3,706만원 + (1억5천만원을 초과하는 금액의 38퍼센트)|\n",
      "\n",
      "| 3억원 초과    5억원 이하         | 9,406만원 + (3억원을 초과하는 금액의 38퍼센트)   |\n",
      "\n",
      "| 5억원 초과      10억원 이하        | 1억 7,406만원 + (5억원을 초과하는 금액의 42퍼센트)|\n",
      "\n",
      "| 10억원 초과        | 3억 8,406만원 + (10억원을 초과하는 금액의 45퍼센트)|\n",
      "\n",
      "\n",
      "\n",
      "\n",
      "\n",
      "② 거주자의 퇴직소득에 대한 소득세는 다음 각 호의 순서에 따라 계산한 금액(이하 “퇴직소득 산출세액”이라 한다)으로 한다.<개정 2013. 1. 1., 2014. 12. 23.>\n",
      "\n",
      "1. 해당 과세기간의 퇴직소득과세표준에 제1항의 세율을 적용하여 계산한 금액\n",
      "\n",
      "2. 제1호의 금액을 12로 나눈 금액에 근속연수를 곱한 금액\n",
      "\n",
      "3. 삭제<2014. 12. 23.>\n",
      "\n",
      "[전문개정 2009. 12. 31.]\n",
      "\n",
      "\n",
      "\n",
      "제2관 세액공제 <개정 2009. 12. 31.>\n",
      "\n",
      "\n",
      "\n",
      "제56조(배당세액공제) ① 거주자의 종합소득금액에 제17조제3항 각 호 외의 부분 단서가 적용되는 배당소득금액이 합산되어 있는 경우에는 같은 항 각 호 외의 부분 단서에 따라 해당 과세기간의 총수입금액에 더한 금액에 해당하는 금액을 종합소득 산출세액에서 공제한다. <개정 2009. 12. 31.>\n",
      "\n",
      "② 제1항에 따른 공제를 “배당세액공제”라 한다.<개정 2009. 12. 31.>\n",
      "\n",
      "③ 삭제<2003. 12. 30.>\n",
      "\n",
      "④ 제1항을 적용할 때 배당세액공제의 대상이 되는 배당소득금액은 제14조제2항의 종합소득과세표준에 포함된 배당소득금액으로서 이자소득등의 종합과세기준금액을 초과하는 것으로 한다.<개정 2009. 12. 31.>\n",
      "\n",
      "⑤ 삭제<2006. 12. 30.>\n",
      "\n",
      "3. 「자본시장과 금융투자업에 관한 법률」 제251조제1항에 따른 집합투자업겸영보험회사의 특별계정\n",
      "\n",
      "③ 비거주자의 소득은 제119조에 따라 구분한다.\n",
      "\n",
      "[전문개정 2009. 12. 31.]\n",
      "\n",
      "\n",
      "\n",
      "제4조(소득의 구분) ① 거주자의 소득은 다음 각 호와 같이 구분한다. <개정 2013. 1. 1., 2020. 12. 29.>\n",
      "\n",
      "1. 종합소득\n",
      "\n",
      "　이 법에 따라 과세되는 모든 소득에서 제2호, 제2호의2 및 제3호에 따른 소득을 제외한 소득으로서 다음 각 목의 소득을 합산한 것\n",
      "\n",
      "가. 이자소득\n",
      "\n",
      "나. 배당소득\n",
      "\n",
      "다. 사업소득\n",
      "\n",
      "라. 근로소득\n",
      "\n",
      "마. 연금소득\n",
      "\n",
      "바. 기타소득\n",
      "\n",
      "2. 퇴직소득\n",
      "\n",
      "2의2. 금융투자소득\n",
      "\n",
      "3. 양도소득\n",
      "\n",
      "② 제1항에 따른 소득을 구분할 때 다음 각 호의 신탁을 제외한 신탁의 이익은 「신탁법」 제2조에 따라 수탁자에게 이전되거나 그 밖에 처분된 재산권에서 발생하는 소득의 내용별로 구분한다.<개정 2011. 7. 25., 2020. 12. 29., 2022. 12. 31.>\n",
      "\n",
      "1. 「법인세법」 제5조제2항에 따라 신탁재산에 귀속되는 소득에 대하여 그 신탁의 수탁자가 법인세를 납부하는 신탁\n",
      "\n",
      "2. 「자본시장과 금융투자업에 관한 법률」 제9조제18항제1호에 따른 투자신탁. 다만, 2024년 12월 31일까지는 이 법 제17조제1항제5호에 따른 집합투자기구로 한정한다.\n",
      "\n",
      "3. 「자본시장과 금융투자업에 관한 법률」 제251조제1항에 따른 집합투자업겸영보험회사의 특별계정\n",
      "\n",
      "③ 비거주자의 소득은 제119조에 따라 구분한다.\n",
      "\n",
      "[전문개정 2009. 12. 31.]\n",
      "\n",
      "[시행일: 2025. 1. 1.] 제4조제1항제1호, 제4조제1항제2호의2\n",
      "\n",
      "\n",
      "\n",
      "제5조(과세기간) ① 소득세의 과세기간은 1월 1일부터 12월 31일까지 1년으로 한다.\n",
      "\n",
      "② 거주자가 사망한 경우의 과세기간은 1월 1일부터 사망한 날까지로 한다.\n",
      "\n",
      "③ 거주자가 주소 또는 거소를 국외로 이전(이하 “출국”이라 한다)하여 비거주자가 되는 경우의 과세기간은 1월 1일부터 출국한 날까지로 한다.\n",
      "\n",
      "[전문개정 2009. 12. 31.]\n",
      "\n",
      "\n",
      "\n",
      "제6조(납세지) ① 거주자의 소득세 납세지는 그 주소지로 한다. 다만, 주소지가 없는 경우에는 그 거소지로 한다.\n",
      "\n",
      "② 비거주자의 소득세 납세지는 제120조에 따른 국내사업장(이하 “국내사업장”이라 한다)의 소재지로 한다. 다만, 국내사업장이 둘 이상 있는 경우에는 주된 국내사업장의 소재지로 하고, 국내사업장이 없는 경우에는 국내원천소득이 발생하는 장소로 한다.<개정 2013. 1. 1.>\n",
      "\n",
      "③ 납세지가 불분명한 경우에는 대통령령으로 정하는 바에 따라 납세지를 결정한다.\n",
      "\n",
      "[전문개정 2009. 12. 31.]\n",
      "\n",
      "\n",
      "\n",
      "제7조(원천징수 등의 경우의 납세지) ① 원천징수하는 소득세의 납세지는 다음 각 호에 따른다. <개정 2012. 1. 1., 2023. 12. 31.>\n",
      "==================================\u001b[1m Ai Message \u001b[0m==================================\n",
      "Tool Calls:\n",
      "  generate_tool (call_44ISw2ZU8DTZ2Hnv06EHLq7X)\n",
      " Call ID: call_44ISw2ZU8DTZ2Hnv06EHLq7X\n",
      "  Args:\n",
      "    context: | 종합소득 과세표준          | 세율                                         |\n",
      "\n",
      "|-------------------|--------------------------------------------|\n",
      "\n",
      "| 1,400만원 이하     | 과세표준의 6퍼센트                             |\n",
      "\n",
      "| 1,400만원 초과     5,000만원 이하     | 84만원 + (1,400만원을 초과하는 금액의 15퍼센트)  |\n",
      "\n",
      "| 5,000만원 초과   8,800만원 이하     | 624만원 + (5,000만원을 초과하는 금액의 24퍼센트) |\n",
      "\n",
      "| 8,800만원 초과 1억5천만원 이하    | 3,706만원 + (8,800만원을 초과하는 금액의 35퍼센트)|\n",
      "\n",
      "| 1억5천만원 초과 3억원 이하         | 3,706만원 + (1억5천만원을 초과하는 금액의 38퍼센트)|\n",
      "\n",
      "| 3억원 초과    5억원 이하         | 9,406만원 + (3억원을 초과하는 금액의 38퍼센트)   |\n",
      "\n",
      "| 5억원 초과      10억원 이하        | 1억 7,406만원 + (5억원을 초과하는 금액의 42퍼센트)|\n",
      "\n",
      "| 10억원 초과        | 3억 8,406만원 + (10억원을 초과하는 금액의 45퍼센트)|\n",
      "    question: 거주자의 연봉 5천만원 소득세는 얼마인가요?\n",
      "=================================\u001b[1m Tool Message \u001b[0m=================================\n",
      "Name: generate_tool\n",
      "\n",
      "거주자의 연봉이 5천만원인 경우, 종합소득 과세표준에 따라 소득세를 계산하면 다음과 같습니다.\n",
      "\n",
      "- 연봉 5천만원은 \"1,400만원 초과 5,000만원 이하\" 구간에 해당합니다.\n",
      "- 이 구간의 소득세 계산식은 84만원 + (1,400만원을 초과하는 금액의 15퍼센트)입니다.\n",
      "\n",
      "계산 과정:\n",
      "1. 5,000만원 - 1,400만원 = 3,600만원 (1,400만원을 초과하는 금액)\n",
      "2. 3,600만원의 15% = 540만원\n",
      "3. 최종 소득세 = 84만원 + 540만원 = 624만원\n",
      "\n",
      "따라서, 연봉 5천만원인 거주자의 소득세는 624만원입니다.\n",
      "==================================\u001b[1m Ai Message \u001b[0m==================================\n",
      "\n",
      "거주자의 연봉이 5천만원인 경우, 소득세는 624만원입니다. 이는 \"1,400만원 초과 5,000만원 이하\" 구간에 해당하며, 계산식은 84만원 + (1,400만원을 초과하는 금액의 15퍼센트)로 이루어집니다.\n"
     ]
    }
   ],
   "source": [
    "from langchain_core.messages import HumanMessage, SystemMessage\n",
    "\n",
    "query = \"연봉 5천만원 직장인의 소득세는 얼마인가요?\"\n",
    "init_state = {\"messages\": [HumanMessage(content=query)]}\n",
    "\n",
    "for chunk in graph.stream(init_state, stream_mode='values'):\n",
    "    chunk['messages'][-1].pretty_print()"
   ]
  },
  {
   "cell_type": "code",
   "execution_count": null,
   "id": "275e8c74",
   "metadata": {},
   "outputs": [],
   "source": []
  }
 ],
 "metadata": {
  "kernelspec": {
   "display_name": "langgraph-uv",
   "language": "python",
   "name": "python3"
  },
  "language_info": {
   "codemirror_mode": {
    "name": "ipython",
    "version": 3
   },
   "file_extension": ".py",
   "mimetype": "text/x-python",
   "name": "python",
   "nbconvert_exporter": "python",
   "pygments_lexer": "ipython3",
   "version": "3.11.9"
  }
 },
 "nbformat": 4,
 "nbformat_minor": 5
}
